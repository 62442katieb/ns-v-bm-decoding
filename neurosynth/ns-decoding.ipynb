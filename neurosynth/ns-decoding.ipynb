{
 "cells": [
  {
   "cell_type": "code",
   "execution_count": 6,
   "metadata": {},
   "outputs": [],
   "source": [
    "#from neurosynth.base.dataset import Dataset\n",
    "#from neurosynth.analysis import decode, meta\n",
    "from os.path import join\n",
    "import numpy as np"
   ]
  },
  {
   "cell_type": "code",
   "execution_count": 2,
   "metadata": {
    "collapsed": true
   },
   "outputs": [],
   "source": [
    "parent_dir = '/Users/Katie/Dropbox/Data/neurosynth_current_data/'\n",
    "roi_dir = '/Users/Katie/Dropbox/Data/NSvBM-decoding/ROIs/'\n",
    "sink_dir = '/Users/Katie/Dropbox/Data/NSvBM-decoding/'"
   ]
  },
  {
   "cell_type": "code",
   "execution_count": 3,
   "metadata": {
    "collapsed": true
   },
   "outputs": [],
   "source": [
    "#original eight ROIs\n",
    "paracentral = join(roi_dir, 'paracentral2.nii.gz')\n",
    "ofc = join(roi_dir, 'ofc2.nii.gz')\n",
    "uncus = join(roi_dir, 'uncus2.nii.gz')\n",
    "visual = join(roi_dir, 'visual2.nii.gz')\n",
    "temporal = join(roi_dir, 'temporal-pole2.nii.gz')\n",
    "fusiform = join(roi_dir, 'fusiform-harvox.nii.gz')\n",
    "precuneus = join(roi_dir, 'precuneus2.nii.gz')\n",
    "pcc = join(roi_dir, 'PCC2-power.nii.gz')\n",
    "\n",
    "#new seven ROIs\n",
    "cerebellum = join(roi_dir, 'laird2011-comp5.nii.gz')\n",
    "dlpfc = join(roi_dir, 'neurosynth-dlpfc.nii.gz')\n",
    "angular = join(roi_dir, 'left-angular-mango.nii.gz')\n",
    "hypothal = join(roi_dir, 'colin27-hypothal.nii.gz')\n",
    "mt = join(roi_dir, 'laird2011-comp10.nii.gz')\n",
    "thal = join(roi_dir, 'laird2011-comp3.nii.gz')\n",
    "acc = join(roi_dir, 'acc-mango.nii.gz')\n",
    "#mask_list = [uncus, visual, fusiform, temporal]\n",
    "#mask_names = ['uncus', 'visual', 'fusiform', 'temporal']\n",
    "mask_list = [cerebellum, dlpfc, angular, hypothal, mt, thal, acc]\n",
    "mask_names = ['cerebellum', 'dlpfc', 'angular', \n",
    "              'hypothalamus', 'area mt', 'thalamus', 'acc']\n",
    "#dataset = Dataset(join(parent_dir,'database.txt'))\n",
    "#dataset.add_features(join(parent_dir, 'features.txt'))"
   ]
  },
  {
   "cell_type": "code",
   "execution_count": 7,
   "metadata": {
    "collapsed": true
   },
   "outputs": [],
   "source": [
    "#dataset.save(join(parent_dir, 'dataset2.pkl'))"
   ]
  },
  {
   "cell_type": "code",
   "execution_count": 4,
   "metadata": {
    "collapsed": true
   },
   "outputs": [],
   "source": [
    "filename = join(parent_dir,'dataset2.pkl')\n",
    "dataset2 = Dataset.load(filename)"
   ]
  },
  {
   "cell_type": "code",
   "execution_count": 6,
   "metadata": {
    "collapsed": true
   },
   "outputs": [],
   "source": [
    "mask_list = [acc]\n",
    "mask_names = ['acc']"
   ]
  },
  {
   "cell_type": "code",
   "execution_count": 7,
   "metadata": {},
   "outputs": [],
   "source": [
    "for i, mask in enumerate(mask_list):\n",
    "    ids = dataset2.get_studies(mask=mask)\n",
    "    ma = meta.MetaAnalysis(dataset2, ids)\n",
    "    #print('{0}: {1} studies'.format(mask, len(ids)))\n",
    "    #print np.unique(ma.images['specificity_z'])\n",
    "    ma.save_results(output_dir=sink_dir, prefix=mask_names[i])\n",
    "    decoder = decode.Decoder(dataset2, image_type='specificity_z')\n",
    "    result = decoder.decode([join(sink_dir, '{0}_specificity_z.nii.gz'.format(mask_names[i]))], \n",
    "                            save=join(sink_dir,'decoded_{0}.txt'.format(mask_names[i])))"
   ]
  },
  {
   "cell_type": "code",
   "execution_count": null,
   "metadata": {
    "collapsed": true
   },
   "outputs": [],
   "source": [
    "import nibabel as nib\n",
    "dat = nib.load('/Users/Katie/Dropbox/Data/NSvBM-decoding/ROIs/visual2.nii.gz')\n",
    "print dat.affine\n",
    "print dat.shape\n",
    "print dataset2.masker.get_header().get_best_affine()\n",
    "print dataset2.masker.get_image().shape"
   ]
  },
  {
   "cell_type": "code",
   "execution_count": null,
   "metadata": {
    "collapsed": true
   },
   "outputs": [],
   "source": [
    "masker = dataset2.masker\n",
    "h = masker.get_header()\n",
    "h.get_data_shape()"
   ]
  }
 ],
 "metadata": {
  "kernelspec": {
   "display_name": "Python 3",
   "language": "python",
   "name": "python3"
  },
  "language_info": {
   "codemirror_mode": {
    "name": "ipython",
    "version": 3
   },
   "file_extension": ".py",
   "mimetype": "text/x-python",
   "name": "python",
   "nbconvert_exporter": "python",
   "pygments_lexer": "ipython3",
   "version": "3.7.0"
  }
 },
 "nbformat": 4,
 "nbformat_minor": 2
}
